{
 "cells": [
  {
   "cell_type": "code",
   "execution_count": null,
   "id": "d8baad59",
   "metadata": {},
   "outputs": [],
   "source": [
    "import numpy as np\n",
    "import matplotlib.pyplot as plt\n",
    "import scipy.constants as constants\n",
    "from numba import njit\n",
    "from scipy.ndimage import convolve, generate_binary_structure\n",
    "\n",
    "import matplotlib as mpl\n",
    "from matplotlib.animation import FuncAnimation\n",
    "from IPython.display import HTML"
   ]
  },
  {
   "cell_type": "code",
   "execution_count": null,
   "id": "b314a130",
   "metadata": {},
   "outputs": [],
   "source": [
    "\n",
    "N = 150 #150 by 150 grid\n",
    "\n",
    "init_random = np.random.random((N,N))\n",
    "lattice = np.zeros((N, N), dtype=np.int8)\n",
    "lattice[init_random>=0.25] = 1\n",
    "lattice[init_random<0.25] = 0\n",
    "\n",
    "plt.imshow(lattice)\n",
    "plt.show()"
   ]
  },
  {
   "cell_type": "code",
   "execution_count": null,
   "id": "66075f9b",
   "metadata": {},
   "outputs": [],
   "source": [
    "def get_energy(lattice, U, mew):\n",
    "    # applies the nearest neighbours summation\n",
    "    kern = generate_binary_structure(2, 1) \n",
    "    kern[1][1] = False\n",
    "    arr = 0.5*lattice * convolve(lattice, kern, mode='constant', cval=0)\n",
    "    return -U*arr.sum() - mew*lattice.sum()"
   ]
  },
  {
   "cell_type": "code",
   "execution_count": null,
   "id": "17ce51be",
   "metadata": {},
   "outputs": [],
   "source": [
    "z=4\n",
    "crit_T = 150.8 #argon"
   ]
  },
  {
   "cell_type": "code",
   "execution_count": null,
   "id": "41d24870",
   "metadata": {},
   "outputs": [],
   "source": [
    "def get_U(crit_T):\n",
    "    return 8*constants.Boltzmann*crit_T/z"
   ]
  },
  {
   "cell_type": "code",
   "execution_count": null,
   "id": "c007e6e0",
   "metadata": {},
   "outputs": [],
   "source": [
    "U = get_U(150.8)"
   ]
  },
  {
   "cell_type": "code",
   "execution_count": null,
   "id": "3649f42a",
   "metadata": {},
   "outputs": [],
   "source": [
    "mew_eq_thy = -z*U\n",
    "print(mew_eq_thy)"
   ]
  },
  {
   "cell_type": "code",
   "execution_count": null,
   "id": "fe979122",
   "metadata": {},
   "outputs": [],
   "source": [
    "mew_eq = -2.05*10**-20\n",
    "shift = 0.2\n",
    "mew_high, mew_low = mew_eq_thy*(1-shift), mew_eq_thy*(1+shift)\n",
    "print(mew_eq, mew_high, mew_low)"
   ]
  },
  {
   "cell_type": "code",
   "execution_count": null,
   "id": "7ac015d3",
   "metadata": {},
   "outputs": [],
   "source": [
    "def get_J(U):\n",
    "    J = U/4\n",
    "    return J"
   ]
  },
  {
   "cell_type": "code",
   "execution_count": null,
   "id": "ee9a0d00",
   "metadata": {},
   "outputs": [],
   "source": [
    "J = get_J(U)"
   ]
  },
  {
   "cell_type": "code",
   "execution_count": null,
   "id": "b6d5b77c",
   "metadata": {},
   "outputs": [],
   "source": [
    "def get_h(mew):\n",
    "    h = (z*U+mew)/2\n",
    "    return h"
   ]
  },
  {
   "cell_type": "code",
   "execution_count": null,
   "id": "d0548504",
   "metadata": {},
   "outputs": [],
   "source": [
    "h_eq_thy = get_h(mew_eq_thy)\n",
    "\n",
    "h_eq = get_h(mew_eq)\n",
    "h_low = get_h(mew_low)\n",
    "h_high = get_h(mew_high)"
   ]
  },
  {
   "cell_type": "code",
   "execution_count": null,
   "id": "f9a1c855",
   "metadata": {},
   "outputs": [],
   "source": [
    "def get_B(T):\n",
    "    B = 1/(constants.Boltzmann*T)\n",
    "    return B"
   ]
  },
  {
   "cell_type": "markdown",
   "id": "03a44068",
   "metadata": {},
   "source": [
    "# Base Metropolis Algorithm"
   ]
  },
  {
   "cell_type": "code",
   "execution_count": null,
   "id": "9a0aa470",
   "metadata": {},
   "outputs": [],
   "source": [
    "@njit(\"Tuple((f8[:], f8[:]))(i1[:,:], i8, f8, f8, f8, f8)\", nopython=True, nogil=True)\n",
    "def metropolis(density_arr, times, B, J, h, energy):\n",
    "    density_arr = density_arr.copy()\n",
    "    net_density = np.zeros(times-1, dtype=np.float64)\n",
    "    net_energy = np.zeros(times-1, dtype=np.float64)\n",
    "\n",
    "    def get_spin(denisty):\n",
    "        return 2*(denisty+1)\n",
    "\n",
    "    for t in range(times-1):\n",
    "        x = np.random.randint(0, N)\n",
    "        y = np.random.randint(0, N)\n",
    "        density_i = density_arr[x, y]\n",
    "        density_f = 1 - density_i\n",
    "        spin_i = get_spin(density_i)\n",
    "        spin_f = -spin_i\n",
    "\n",
    "\n",
    "        E_i = 0\n",
    "        E_f = 0\n",
    "        \n",
    "        if x > 0:\n",
    "            E_i += -spin_i * density_arr[x-1, y] * J\n",
    "            E_f += -spin_f * density_arr[x-1, y] * J\n",
    "        if x < N-1:\n",
    "            E_i += -spin_i * density_arr[x+1, y] * J\n",
    "            E_f += -spin_f * density_arr[x+1, y] * J\n",
    "        if y > 0:\n",
    "            E_i += -spin_i * density_arr[x, y-1] * J\n",
    "            E_f += -spin_f * density_arr[x, y-1] * J\n",
    "        if y < N-1:\n",
    "            E_i += -spin_i * density_arr[x, y+1] * J\n",
    "            E_f += -spin_f * density_arr[x, y+1] * J\n",
    "\n",
    "        E_i += -spin_i*h\n",
    "        E_f += -spin_f*h\n",
    "\n",
    "        dE = E_f - E_i\n",
    "        if (dE > 0) and (np.random.random() < np.exp(-B * dE)):\n",
    "            density_arr[x, y] = density_f\n",
    "            energy += dE\n",
    "        elif dE <= 0:\n",
    "            density_arr[x, y] = density_f\n",
    "            energy += dE\n",
    "\n",
    "        net_density[t] = density_arr.sum()\n",
    "        net_energy[t] = energy\n",
    "\n",
    "    return net_density, net_energy"
   ]
  },
  {
   "cell_type": "markdown",
   "id": "07c913b3",
   "metadata": {},
   "source": [
    "# Metropolis Algorithm With Visualization"
   ]
  },
  {
   "cell_type": "code",
   "execution_count": null,
   "id": "af82b293",
   "metadata": {},
   "outputs": [],
   "source": [
    "@njit(\"Tuple((f8[:], f8[:], i1[:, :, :]))(i1[:,:], i8, i8, f8, f8, f8, f8)\", nopython=True, nogil=True)\n",
    "def metropolis_plot(density_arr, times, snapshot_interval, B, J, h, energy):\n",
    "    density_arr = density_arr.copy()\n",
    "    net_density = np.zeros(times-1, dtype=np.float64)\n",
    "    net_energy = np.zeros(times-1, dtype=np.float64)\n",
    "    num_snapshots = times//snapshot_interval\n",
    "    density_his = np.zeros((num_snapshots, N, N), dtype=np.int8)\n",
    "\n",
    "    def get_spin(denisty):\n",
    "        return 2*(denisty+1)\n",
    "\n",
    "    for t in range(times-1):\n",
    "        x = np.random.randint(0, N)\n",
    "        y = np.random.randint(0, N)\n",
    "        density_i = density_arr[x, y]\n",
    "        density_f = 1 - density_i\n",
    "        spin_i = get_spin(density_i)\n",
    "        spin_f = -spin_i\n",
    "\n",
    "\n",
    "        E_i = 0\n",
    "        E_f = 0\n",
    "        \n",
    "        if x > 0:\n",
    "            E_i += -spin_i * density_arr[x-1, y] * J\n",
    "            E_f += -spin_f * density_arr[x-1, y] * J\n",
    "        if x < N-1:\n",
    "            E_i += -spin_i * density_arr[x+1, y] * J\n",
    "            E_f += -spin_f * density_arr[x+1, y] * J\n",
    "        if y > 0:\n",
    "            E_i += -spin_i * density_arr[x, y-1] * J\n",
    "            E_f += -spin_f * density_arr[x, y-1] * J\n",
    "        if y < N-1:\n",
    "            E_i += -spin_i * density_arr[x, y+1] * J\n",
    "            E_f += -spin_f * density_arr[x, y+1] * J\n",
    "\n",
    "        E_i += -spin_i*h\n",
    "        E_f += -spin_f*h\n",
    "\n",
    "        dE = E_f - E_i\n",
    "        if (dE > 0) and (np.random.random() < np.exp(-B * dE)):\n",
    "            density_arr[x, y] = density_f\n",
    "            energy += dE\n",
    "        elif dE <= 0:\n",
    "            density_arr[x, y] = density_f\n",
    "            energy += dE\n",
    "\n",
    "        net_density[t] = density_arr.sum()\n",
    "        net_energy[t] = energy\n",
    "        if t % snapshot_interval == 0:\n",
    "            density_his[t//snapshot_interval] = density_arr.copy()\n",
    "\n",
    "    return net_density, net_energy, density_his"
   ]
  },
  {
   "cell_type": "code",
   "execution_count": null,
   "id": "15547f17",
   "metadata": {},
   "outputs": [],
   "source": [
    "B = get_B(100)"
   ]
  },
  {
   "cell_type": "code",
   "execution_count": null,
   "id": "31b1cdaf",
   "metadata": {},
   "outputs": [],
   "source": [
    "net_density_eq, net_energy_eq, density_his_eq = metropolis_plot(lattice, 1000000, 10000, B, J, h_eq, get_energy(lattice, U, mew_eq))\n",
    "plt.imshow(density_his_eq[-1])\n",
    "print(net_density_eq[-1])"
   ]
  },
  {
   "cell_type": "code",
   "execution_count": null,
   "id": "95a05ee4",
   "metadata": {},
   "outputs": [],
   "source": [
    "net_density_low, net_energy_low, density_his_low = metropolis_plot(lattice, 1000000, 10000, B, J, h_low, get_energy(lattice, U, mew_low))\n",
    "plt.imshow(density_his_low[-1])\n",
    "print(net_density_low[-1])"
   ]
  },
  {
   "cell_type": "code",
   "execution_count": null,
   "id": "90c18bee",
   "metadata": {},
   "outputs": [],
   "source": [
    "net_density_high, net_energy_high, density_his_high = metropolis_plot(lattice, 1000000, 10000, B, J, h_high, get_energy(lattice, U, mew_high))\n",
    "plt.imshow(density_his_high[-1])\n",
    "print(net_density_high[-1])"
   ]
  },
  {
   "cell_type": "code",
   "execution_count": null,
   "id": "cd167bc2",
   "metadata": {},
   "outputs": [],
   "source": [
    "mpl.rcParams['animation.embed_limit'] = 2**128"
   ]
  },
  {
   "cell_type": "code",
   "execution_count": null,
   "id": "43abb279",
   "metadata": {},
   "outputs": [],
   "source": [
    "fig, ax = plt.subplots()\n",
    "im = ax.imshow(np.zeros((N, N)), cmap='gray', vmin=0, vmax=1)\n",
    "\n",
    "def update(frame):\n",
    "    im.set_data(density_his_eq[frame])\n",
    "    return [im]\n",
    "\n",
    "ani = FuncAnimation(fig, update, frames=len(density_his_eq), blit=True)\n",
    "HTML(ani.to_jshtml())"
   ]
  },
  {
   "cell_type": "code",
   "execution_count": null,
   "id": "9b68fddc",
   "metadata": {},
   "outputs": [],
   "source": [
    "fig, ax = plt.subplots()\n",
    "im = ax.imshow(np.zeros((N, N)), cmap='gray', vmin=0, vmax=1)\n",
    "\n",
    "def update(frame):\n",
    "    im.set_data(density_his_low[frame])\n",
    "    return [im]\n",
    "\n",
    "ani = FuncAnimation(fig, update, frames=len(density_his_low), blit=True)\n",
    "HTML(ani.to_jshtml())"
   ]
  },
  {
   "cell_type": "code",
   "execution_count": null,
   "id": "e02f3f90",
   "metadata": {},
   "outputs": [],
   "source": [
    "fig, ax = plt.subplots()\n",
    "im = ax.imshow(np.zeros((N, N)), cmap='gray', vmin=0, vmax=1)\n",
    "\n",
    "def update(frame):\n",
    "    im.set_data(density_his_high[frame])\n",
    "    return [im]\n",
    "\n",
    "ani_high = FuncAnimation(fig, update, frames=len(density_his_high), blit=True)\n",
    "HTML(ani_high.to_jshtml())"
   ]
  },
  {
   "cell_type": "markdown",
   "id": "0b7fc7b8",
   "metadata": {},
   "source": [
    "# Mew / Density"
   ]
  },
  {
   "cell_type": "code",
   "execution_count": null,
   "id": "4bad2649",
   "metadata": {},
   "outputs": [],
   "source": [
    "@njit(\"f8(i1[:,:], i8, f8, f8, f8)\", nopython=True, nogil=True)\n",
    "def metropolis_density(density_arr, times, B, J, h):\n",
    "    density_arr = density_arr.copy()\n",
    "\n",
    "    def get_spin(denisty):\n",
    "        return 2*(denisty+1)\n",
    "\n",
    "    for t in range(times-1):\n",
    "        x = np.random.randint(0, N)\n",
    "        y = np.random.randint(0, N)\n",
    "        density_i = density_arr[x, y]\n",
    "        density_f = 1 - density_i\n",
    "        spin_i = get_spin(density_i)\n",
    "        spin_f = -spin_i\n",
    "\n",
    "\n",
    "        E_i = 0\n",
    "        E_f = 0\n",
    "        \n",
    "        if x > 0:\n",
    "            E_i += -spin_i * density_arr[x-1, y] * J\n",
    "            E_f += -spin_f * density_arr[x-1, y] * J\n",
    "        if x < N-1:\n",
    "            E_i += -spin_i * density_arr[x+1, y] * J\n",
    "            E_f += -spin_f * density_arr[x+1, y] * J\n",
    "        if y > 0:\n",
    "            E_i += -spin_i * density_arr[x, y-1] * J\n",
    "            E_f += -spin_f * density_arr[x, y-1] * J\n",
    "        if y < N-1:\n",
    "            E_i += -spin_i * density_arr[x, y+1] * J\n",
    "            E_f += -spin_f * density_arr[x, y+1] * J\n",
    "\n",
    "        E_i += -spin_i*h\n",
    "        E_f += -spin_f*h\n",
    "\n",
    "        dE = E_f - E_i\n",
    "        if (dE > 0) and (np.random.random() < np.exp(-B * dE)):\n",
    "            density_arr[x, y] = density_f\n",
    "        elif dE <= 0:\n",
    "            density_arr[x, y] = density_f\n",
    "\n",
    "    return  density_arr.sum()"
   ]
  },
  {
   "cell_type": "code",
   "execution_count": null,
   "id": "b4c9e7d8",
   "metadata": {},
   "outputs": [],
   "source": [
    "@njit(\"Tuple((f8[:], f8[:]))(i1[:,:], f8, f8, f8, f8, f8, f8, i8)\", nopython=True, nogil=True)\n",
    "def mew_denisty(lattice, B, J, U, mew_max, mew_min, z, times):\n",
    "    mew_arr = np.linspace(mew_min, mew_max, times)\n",
    "    density_arr = np.zeros(times, dtype=np.float64)\n",
    "\n",
    "    for t, mew in enumerate(mew_arr):\n",
    "        density_arr[t] = metropolis_density(lattice, 10000000, B, J, (z*U+mew)/2)\n",
    "\n",
    "    return density_arr, mew_arr\n"
   ]
  },
  {
   "cell_type": "code",
   "execution_count": null,
   "id": "64774fbf",
   "metadata": {},
   "outputs": [],
   "source": [
    "B = get_B(100)"
   ]
  },
  {
   "cell_type": "code",
   "execution_count": null,
   "id": "d9dc3ed3",
   "metadata": {},
   "outputs": [],
   "source": [
    "delta = 1*10**-20"
   ]
  },
  {
   "cell_type": "code",
   "execution_count": null,
   "id": "c90b26d3",
   "metadata": {},
   "outputs": [],
   "source": [
    "density_arr100, mew_arr100 = mew_denisty(lattice, B, J, U, mew_eq_thy+delta, mew_eq_thy-delta, z, 200)"
   ]
  },
  {
   "cell_type": "code",
   "execution_count": null,
   "id": "1a1b091a",
   "metadata": {},
   "outputs": [],
   "source": [
    "plt.figure(figsize=(8,5))\n",
    "plt.plot(mew_arr100, density_arr100, label='100')\n",
    "plt.xlabel(r\"$\\mu$\")\n",
    "plt.ylabel('Density')\n",
    "plt.legend(facecolor='white', framealpha=1)\n",
    "plt.show()"
   ]
  },
  {
   "cell_type": "code",
   "execution_count": null,
   "id": "54eeb5e2",
   "metadata": {},
   "outputs": [],
   "source": [
    "B = get_B(150)"
   ]
  },
  {
   "cell_type": "code",
   "execution_count": null,
   "id": "c9a92862",
   "metadata": {},
   "outputs": [],
   "source": [
    "density_arr150, mew_arr150 = mew_denisty(lattice, B, J, U, mew_eq_thy+delta, mew_eq_thy-delta, z, 200)"
   ]
  },
  {
   "cell_type": "code",
   "execution_count": null,
   "id": "b0b94b42",
   "metadata": {},
   "outputs": [],
   "source": [
    "plt.figure(figsize=(8,5))\n",
    "plt.plot(mew_arr150, density_arr150, label='150K')\n",
    "plt.xlabel(r\"$\\mu$\")\n",
    "plt.ylabel('Density')\n",
    "plt.legend(facecolor='white', framealpha=1)\n",
    "plt.show()"
   ]
  },
  {
   "cell_type": "code",
   "execution_count": null,
   "id": "122d95df",
   "metadata": {},
   "outputs": [],
   "source": [
    "B = get_B(250)"
   ]
  },
  {
   "cell_type": "code",
   "execution_count": null,
   "id": "2100fc63",
   "metadata": {},
   "outputs": [],
   "source": [
    "density_arr250, mew_arr250 = mew_denisty(lattice, B, J, U, mew_eq_thy+delta, mew_eq_thy-delta, z, 200)"
   ]
  },
  {
   "cell_type": "code",
   "execution_count": null,
   "id": "311171af",
   "metadata": {},
   "outputs": [],
   "source": [
    "plt.figure(figsize=(8,5))\n",
    "plt.plot(mew_arr250, density_arr250, label='250K')\n",
    "plt.xlabel(r\"$\\mu$\")\n",
    "plt.ylabel('Density')\n",
    "plt.legend(facecolor='white', framealpha=1)\n",
    "plt.show()"
   ]
  },
  {
   "cell_type": "markdown",
   "id": "88b0551d",
   "metadata": {},
   "source": [
    "# Converge"
   ]
  },
  {
   "cell_type": "code",
   "execution_count": null,
   "id": "8a1581eb",
   "metadata": {},
   "outputs": [],
   "source": [
    "@njit(\"f8[:](i1[:,:], i8, f8, f8, f8)\", nopython=True, nogil=True)\n",
    "def metropolis_density_arr(density_arr, times, B, J, h):\n",
    "    density_arr = density_arr.copy()\n",
    "    net_density = np.zeros(times-1, dtype=np.float64)\n",
    "\n",
    "    def get_spin(denisty):\n",
    "        return 2*(denisty+1)\n",
    "\n",
    "    for t in range(times-1):\n",
    "        x = np.random.randint(0, N)\n",
    "        y = np.random.randint(0, N)\n",
    "        density_i = density_arr[x, y]\n",
    "        density_f = 1 - density_i\n",
    "        spin_i = get_spin(density_i)\n",
    "        spin_f = -spin_i\n",
    "\n",
    "        E_i = 0\n",
    "        E_f = 0\n",
    "        \n",
    "        if x > 0:\n",
    "            E_i += -spin_i * density_arr[x-1, y] * J\n",
    "            E_f += -spin_f * density_arr[x-1, y] * J\n",
    "        if x < N-1:\n",
    "            E_i += -spin_i * density_arr[x+1, y] * J\n",
    "            E_f += -spin_f * density_arr[x+1, y] * J\n",
    "        if y > 0:\n",
    "            E_i += -spin_i * density_arr[x, y-1] * J\n",
    "            E_f += -spin_f * density_arr[x, y-1] * J\n",
    "        if y < N-1:\n",
    "            E_i += -spin_i * density_arr[x, y+1] * J\n",
    "            E_f += -spin_f * density_arr[x, y+1] * J\n",
    "\n",
    "        E_i += -spin_i*h\n",
    "        E_f += -spin_f*h\n",
    "\n",
    "        dE = E_f - E_i\n",
    "        if (dE > 0) and (np.random.random() < np.exp(-B * dE)):\n",
    "            density_arr[x, y] = density_f\n",
    "        elif dE <= 0:\n",
    "            density_arr[x, y] = density_f\n",
    "        \n",
    "        net_density[t] = density_arr.sum()\n",
    "\n",
    "    return  net_density"
   ]
  },
  {
   "cell_type": "code",
   "execution_count": null,
   "id": "04c7572d",
   "metadata": {},
   "outputs": [],
   "source": [
    "B = get_B(100)"
   ]
  },
  {
   "cell_type": "code",
   "execution_count": null,
   "id": "11885256",
   "metadata": {},
   "outputs": [],
   "source": [
    "density_arrP = metropolis_density_arr(lattice, 10000000, B, J, (z*U+mew_eq_thy)/2)"
   ]
  },
  {
   "cell_type": "code",
   "execution_count": null,
   "id": "7ec892d1",
   "metadata": {},
   "outputs": [],
   "source": [
    "plt.figure(figsize=(8,5))\n",
    "plt.plot(range(10000000-1), density_arrP, label='75% of spins started positive')\n",
    "plt.xlabel('Iteration')\n",
    "plt.ylabel('Density')\n",
    "plt.legend(facecolor='white', framealpha=1)\n",
    "plt.show()"
   ]
  },
  {
   "cell_type": "markdown",
   "id": "ce81eabe",
   "metadata": {},
   "source": [
    "# References\n",
    "\n",
    "Ising model:\n",
    "https://www.youtube.com/watch?v=K--1hlv9yv0&t=914s\n",
    "https://github.com/lukepolson/youtube_channel/blob/main/Python%20Metaphysics%20Series/vid14.ipynb\n",
    "\n",
    "Lattice gas model:\n",
    "https://www.pas.rochester.edu/~stte/phy418S21/units/unit_4-6.pdf"
   ]
  }
 ],
 "metadata": {
  "kernelspec": {
   "display_name": "ALP",
   "language": "python",
   "name": "python3"
  },
  "language_info": {
   "codemirror_mode": {
    "name": "ipython",
    "version": 3
   },
   "file_extension": ".py",
   "mimetype": "text/x-python",
   "name": "python",
   "nbconvert_exporter": "python",
   "pygments_lexer": "ipython3",
   "version": "3.12.11"
  }
 },
 "nbformat": 4,
 "nbformat_minor": 5
}
